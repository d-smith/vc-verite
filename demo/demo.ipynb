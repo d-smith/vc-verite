{
 "cells": [
  {
   "cell_type": "markdown",
   "id": "c27fa569-3f7d-4d6c-8dc1-1f50af29a5b3",
   "metadata": {},
   "source": [
    "# Verifiable Credentials Smart Contract Pattern with Circle Verite\n",
    "\n",
    "Note - this section is mostly excerpts from the [Verite documentation](https://developers.circle.com/verite/docs/verite-protocol-introduction). Refer to the documentation for a full, in depth explanation of Verite.\n",
    "\n",
    "## Overview \n",
    "\n",
    "From Merriam-Webster\n",
    "\n",
    "*vérité* - noun : the art or technique of filming something (such as a motion picture) so as to convey candid realism \n",
    "\n",
    "From Circle's [introduction](https://developers.circle.com/verite/docs/verite-protocol-introduction)\n",
    "\n",
    "> Verite is a set of free open source decentralized identity protocols and data models to facilitate interoperability between Verite products present and future. These protocols allow people and institutions to cryptographically prove claims about their identities, and allow services to attest to those claims, while avoiding exposure of sensitive data. For example, an individual might prove KYC, credit, insurance, accredited investor status, or similar identity claims to an application or smart contract while preserving privacy.\n",
    ">\n",
    ">Unlike centralized identity architectures, Verite's decentralized approach enables people and institutions to control how their identity data is accessed and avoids the sensitivity of identity data being used to justify vendor lock-in or \"toll-roads\". Verite is not a token and requires no specific blockchain, but functions across many major blockchain and wallet ecosystems, never storing ANY sensitive or de-anonymizing data on-chain.\n",
    ">\n",
    ">Verite empowers developers, financial institutions, regulators, and individuals with an open, free, interoperable identity model for decentralized finance. Interoperability ensures that applications, services, wallets, and smart contracts can interact with one another following a shared set of standard rules and interfaces.\n",
    "\n",
    "### Architecture Overview\n",
    "\n",
    "Circle docs - see [here](https://developers.circle.com/verite/docs/architecture-overview)\n",
    "\n",
    "\n",
    "#### Identity Hierarchy\n",
    "\n",
    "![Identity Hierarchy](./id-hierarchy.png)\n",
    "\n",
    "#### Identity Protocol\n",
    "\n",
    "![Identity Protocol](./id-protocol.png)\n",
    "\n",
    "\n",
    "## Foundational Standards\n",
    "\n",
    "Foundational standards that Verite draws upon include:\n",
    "\n",
    ">**W3C Verifiable Credentials (“VCs”)**: Verifiable Credentials define a standard flexible, tamper-evident way for an issuer to make a claim about a subject in a way that is independently verifiable and privacy-preserving. VCs are the data model used for Verite claims attestations.\n",
    ">\n",
    ">**Verifiable Presentations (\"VPs\")**: Also defined in the VC spec, Verifiable Presentations provide a way to securely package a set of VCs for transmission to a relying party in a way that allows the subject to prove control over the credentials.\n",
    ">\n",
    ">**Identifiers, Decentralized Identifiers**: An \"identifier\" refers to both a subject and an issuer of a VC. The identifier data type is a URI, and may be a W3C Decentralized Identifier (DID), which is used in Verite reference implementations. Verite does not require the use of DIDs, but they are one standard way to implement identifiers that minimize correlability and enable proof of control over credentials.\n",
    ">\n",
    ">**Verifiable Data Registry**: This is a general concept that enables decoupling of verification from the issuer. It's typically used for storing revocation registries, trusted issuer lists, or similar data repositories to be accessed during the verification process. In VC implementations, these are often implemented with a distributed ledger (note that in the Verite approach, the credentials themselves are not stored on-chain).\n",
    ">\n",
    ">**Credential Manifest**: This standard from the Decentralized Identity Foundation (DIF) defines the mechanism for requesting and receiving a credential. A Credential Manifest allows an issuer to describe (in a machine-readable way) what types (schemas) of credentials they issue and what their requirements are. It also describes the format for a subject/holder to submit an application for a credential that conforms to those requirements.\n",
    ">\n",
    ">**Presentation Exchange**: This DIF standard enables a verifier to describe what types of credentials they require from a subject/holder, and how the subject/holder can send a submission.\n",
    ">\n",
    ">**Wallet and Credential Interactions**: Verite's Wallet interaction protocols use a lightweight flow loosely based on the work-in-progress DIF Wallet and Credential Interactions specification.\n",
    "\n",
    "\n",
    "## Smart Contract Patterns\n",
    "\n",
    ">A core functionality of Verite is that it enables smart contracts to require successful verification of Verifiable Credentials in order to safely and securely assess proofs of identity, credit and risk scoring, insurance, accredited investor status and other identity-related claims.\n",
    ">\n",
    ">Today, smart contracts on most chains (such as ethereum) are not technically capable and/or economically practical at executing the verification operations themselves, and they cannot call upon external verification or other network services beyond the constraints of their own chains. Verification in-contract would also require transmitting credentials on-chain, which may leak sensitive personal information and violate the first principle of 'Privacy by Design.'\n",
    ">\n",
    ">Instead, verification can be done by a web-based \"front-end\", or outsourced to a verifier service that communicates to the dApp directly (via offchain transactions delivered to the smart contract along with the transactions it authorizes) or indirectly (via on-chain registries, oracles, or other mechanisms).\n",
    ">\n",
    "\n",
    "### Verification Results\n",
    "\n",
    "![Verification Results](./verification-results.png)\n",
    "\n",
    "### Verification Records and Registry\n",
    "\n",
    "![Verification Registry](./verification-records.png)\n",
    "\n",
    "### Verification Query\n",
    "\n",
    "![Verification Query](./verification-query.png)\n",
    "\n"
   ]
  },
  {
   "cell_type": "code",
   "execution_count": null,
   "id": "4de7d567-d92d-4e23-8c4e-f2d407f5454e",
   "metadata": {},
   "outputs": [],
   "source": [
    "import json\n",
    "\n",
    "from web3 import Web3\n",
    "w3 = Web3(Web3.HTTPProvider('http://127.0.0.1:8545'))"
   ]
  },
  {
   "cell_type": "code",
   "execution_count": null,
   "id": "d3029be4-35c2-412b-810c-514311fd4d0d",
   "metadata": {},
   "outputs": [],
   "source": [
    "# Eth test account addresses\n",
    "ACCT0='0x892BB2e4F6b14a2B5b82Ba8d33E5925D42D4431F'\n",
    "ACCT1='0x9949f7e672a568bB3EBEB777D5e8D1c1107e96E5'\n",
    "ACCT2='0x835F0Aa692b8eBCdEa8E64742e5Bce30303669c2'\n",
    "ACCT3='0x7bA7d161F9E8B707694f434d65c218a1F0853B1C'\n",
    "ACCT4='0xB4C3D79CDC0eb7A8576a8bf224Bbc6Bec790c320'\n",
    "ACCT5='0x5Ad35F89D8C1d03089BDe2578Ce43883E3f2A7B0'\n",
    "ACCT6='0x0234643975F308b76d1241897e7d70b02C155daa'\n",
    "ACCT7='0x5199524B11e801c52161CA76dB9BFD72f4a4E1E1'\n",
    "ACCT8='0x549381D65fe61046911d11743D5c0941Ed704640'\n",
    "ACCT9='0x73dA1eD554De26C467d97ADE090af6d52851745E'"
   ]
  },
  {
   "cell_type": "code",
   "execution_count": null,
   "id": "15234b73-a58b-414a-ba6c-416b60fc8375",
   "metadata": {},
   "outputs": [],
   "source": [
    "# Eth test account private keys\n",
    "ACCT0KEY='0xcb1a18dff8cfcee16202bf86f1f89f8b3881107b8192cd06836fda9dbc0fde1b'\n",
    "ACCT1KEY='0xa54f24f80839b659fc44fbb19492507bc734ea572f6f5672787cd8e9a198bf28'\n",
    "ACCT2KEY='0x824f9e081f93102ca26e9e696bb6804079a5e4e3fca3a05216e2b6e0538fcab9'\n",
    "ACCT3KEY='0x3e56e9b2db8389123a03816c37dd4515e07077483fbe865156a2d8f6003b6725'\n",
    "ACCT4KEY='0xca55c5904f97405816f8d24c5e7810aaec2aa347ea0e1f920f19eca05669ae7b'\n",
    "ACCT5KEY='0x6100006a16d6a0fd065f62165e64d412920afd0e8fc59956ad7a9116e363b72e'\n",
    "ACCT6KEY='0x55b0e7919eb08e618dbddf025341094eefc0db60244736c1faac1412d68868f3'\n",
    "ACCT7KEY='0x81b475051c4686cffe815e50216a9bac397c0e5d9108170823b290d41823fa8a'\n",
    "ACCT8KEY='0xc3599ced1484dc8eccbb477cf8c318ca48ef1f2aac81a10a3774fe40d3b678de'\n",
    "ACCT9KEY='0xf9832eeac47db42efeb2eca01e6479bfde00fda8fdd0624d45efd0e4b9ddcd3b'"
   ]
  },
  {
   "cell_type": "markdown",
   "id": "57a79f0f-56c7-4f31-8adb-7fe958df499b",
   "metadata": {},
   "source": [
    "## Deploy the Verification Registry "
   ]
  },
  {
   "cell_type": "code",
   "execution_count": null,
   "id": "fd59df51-31ac-463a-b179-88e0d304dfc6",
   "metadata": {},
   "outputs": [],
   "source": [
    "home = ! echo $HOME\n",
    "exec_home = home[0] + '/code/vc-verite'\n",
    "print(exec_home)"
   ]
  },
  {
   "cell_type": "code",
   "execution_count": null,
   "id": "63034923-a2f4-4fb3-a5d1-f6cace118e67",
   "metadata": {},
   "outputs": [],
   "source": [
    "!cd {exec_home} && DEPLOYER_KEY={ACCT0KEY} OWNER_ADDRESS={ACCT0} forge script script/VerificationRegistry.s.sol:DeployScript --broadcast --rpc-url http://127.0.0.1:8545 --extra-output-files abi --extra-output-files bin\n"
   ]
  },
  {
   "cell_type": "code",
   "execution_count": null,
   "id": "359bd958-672d-42a0-9081-ece80fa5fa5b",
   "metadata": {},
   "outputs": [],
   "source": [
    "%%bash -s \"$exec_home\" --out REGISTRY_ADDRESS\n",
    "cd $1\n",
    "ls\n",
    "node script/registry-deploy-details.js "
   ]
  },
  {
   "cell_type": "code",
   "execution_count": null,
   "id": "313037c7-12ba-49e0-9326-58c1f65fd969",
   "metadata": {},
   "outputs": [],
   "source": [
    "REGISTRY_ADDRESS = REGISTRY_ADDRESS.strip()\n",
    "print(REGISTRY_ADDRESS)"
   ]
  },
  {
   "cell_type": "markdown",
   "id": "46380027-91ba-481e-9d93-8ee558054465",
   "metadata": {},
   "source": [
    "## KYCToken Deploy"
   ]
  },
  {
   "cell_type": "code",
   "execution_count": null,
   "id": "7fdd1075-6857-496c-869f-0c0353707ccb",
   "metadata": {},
   "outputs": [],
   "source": [
    "!cd {exec_home} && DEPLOYER_KEY={ACCT0KEY} OWNER_ADDRESS={ACCT0} REGISTRY_ADDRESS={REGISTRY_ADDRESS} forge script script/KYCToken.s.sol:DeployScript --broadcast --rpc-url http://127.0.0.1:8545 --extra-output-files abi --extra-output-files bin\n"
   ]
  },
  {
   "cell_type": "code",
   "execution_count": null,
   "id": "055dd460-44a7-4d60-83fd-b5cf1c5b9ce8",
   "metadata": {},
   "outputs": [],
   "source": [
    "%%bash -s \"$exec_home\" --out KYCTOKEN_ADDRESS\n",
    "cd $1\n",
    "ls\n",
    "node script/kyctoken-deploy-details.js "
   ]
  },
  {
   "cell_type": "code",
   "execution_count": null,
   "id": "1626d171-73fb-474f-9321-22250ea28314",
   "metadata": {},
   "outputs": [],
   "source": [
    "KYCTOKEN_ADDRESS = KYCTOKEN_ADDRESS.strip()\n",
    "print(KYCTOKEN_ADDRESS)"
   ]
  },
  {
   "cell_type": "markdown",
   "id": "4fc78951-35e7-415e-9a44-6fe7bc606a2e",
   "metadata": {},
   "source": [
    "## Token Transfer to Unregistered Address"
   ]
  },
  {
   "cell_type": "code",
   "execution_count": null,
   "id": "ce8796a0-5565-4cc4-a311-cb99a45e078c",
   "metadata": {},
   "outputs": [],
   "source": [
    "tokenAbiFile = home[0] + '/code/vc-verite/out/KYCToken.sol/KYCToken.json'"
   ]
  },
  {
   "cell_type": "code",
   "execution_count": null,
   "id": "b2599a2d-e216-4a65-a4d8-77415fad9e0c",
   "metadata": {},
   "outputs": [],
   "source": [
    "import json\n",
    "\n",
    "with open(tokenAbiFile) as f:\n",
    "    token_json = json.load(f)\n",
    "\n",
    "tokenAbi = token_json['abi']"
   ]
  },
  {
   "cell_type": "code",
   "execution_count": null,
   "id": "02e83362-f4e1-4c09-9e8c-751576f84022",
   "metadata": {},
   "outputs": [],
   "source": [
    "kycToken = w3.eth.contract(address=KYCTOKEN_ADDRESS, abi=tokenAbi)"
   ]
  },
  {
   "cell_type": "code",
   "execution_count": null,
   "id": "dcc18689-48bd-44da-9af4-408052d6aff8",
   "metadata": {},
   "outputs": [],
   "source": [
    "kycToken.functions.balanceOf(ACCT1).call()"
   ]
  },
  {
   "cell_type": "code",
   "execution_count": null,
   "id": "f982f4ad-f7b3-47ef-8ae7-83929bd5af20",
   "metadata": {},
   "outputs": [],
   "source": [
    "# Check registry contract address\n",
    "kycToken.functions.registryAddress().call() == REGISTRY_ADDRESS"
   ]
  },
  {
   "cell_type": "code",
   "execution_count": null,
   "id": "0ab4383c-974e-46d5-be28-f6643fdd48bf",
   "metadata": {},
   "outputs": [],
   "source": []
  },
  {
   "cell_type": "code",
   "execution_count": null,
   "id": "7d897f15-953f-4df3-92ea-b70fc53edb9e",
   "metadata": {},
   "outputs": [],
   "source": [
    "# Transfer some kyc coin to acct1\n",
    "tx = kycToken.functions.transfer(ACCT1, 100).build_transaction(\n",
    "    {\n",
    "        \"from\":ACCT0,\n",
    "        \"nonce\": w3.eth.get_transaction_count(ACCT0),\n",
    "    }\n",
    ")"
   ]
  },
  {
   "cell_type": "markdown",
   "id": "1205d8a6-387c-49ac-aec9-b94eb15f45b1",
   "metadata": {},
   "source": [
    "## Configure Verification Registry"
   ]
  },
  {
   "cell_type": "code",
   "execution_count": null,
   "id": "dcb09fa4-757b-4fdf-bd41-36a7a91ab695",
   "metadata": {},
   "outputs": [],
   "source": []
  },
  {
   "cell_type": "code",
   "execution_count": null,
   "id": "5d8fe99c-0238-4d08-a9c6-156d4699bf5e",
   "metadata": {},
   "outputs": [],
   "source": [
    "registryAbiFile =  home[0] + '/code/vc-verite/out/VerificationRegistry.sol/VerificationRegistry.json'"
   ]
  },
  {
   "cell_type": "code",
   "execution_count": null,
   "id": "15a55844-e135-4995-90bd-d395e13ddb4b",
   "metadata": {},
   "outputs": [],
   "source": [
    "import json\n",
    "\n",
    "with open(registryAbiFile) as f:\n",
    "    registry_json = json.load(f)\n",
    "\n",
    "registryAbi = registry_json['abi']"
   ]
  },
  {
   "cell_type": "code",
   "execution_count": null,
   "id": "a79fc45a-e5c3-4621-81ea-10975b4dfa75",
   "metadata": {},
   "outputs": [],
   "source": [
    "verificationRegistry = w3.eth.contract(address=REGISTRY_ADDRESS, abi=registryAbi)"
   ]
  },
  {
   "cell_type": "code",
   "execution_count": null,
   "id": "2ed02487-b40d-40b5-a282-435059fe0836",
   "metadata": {},
   "outputs": [],
   "source": [
    "verificationRegistryNameBytes32 = str.encode('VerificationRegistry')\n",
    "verificationRegistryNameBytes32 =  b'\\0'*12 + verificationRegistryNameBytes32\n",
    "print(len (verificationRegistryNameBytes32))\n",
    "print(verificationRegistryNameBytes32.hex())"
   ]
  },
  {
   "cell_type": "code",
   "execution_count": null,
   "id": "e64955a6-4d48-4b03-9252-70fe63d7daaa",
   "metadata": {},
   "outputs": [],
   "source": [
    "tx = verificationRegistry.functions.addVerifier(ACCT0,(verificationRegistryNameBytes32, \"did:verificationregistry:contract\", \"https://example.com/owner\", ACCT9)).build_transaction(\n",
    "    {\n",
    "        \"from\":ACCT0,\n",
    "        \"nonce\": w3.eth.get_transaction_count(ACCT0),\n",
    "    }\n",
    ")"
   ]
  },
  {
   "cell_type": "code",
   "execution_count": null,
   "id": "01f10031-fe47-449d-a657-1341293569ef",
   "metadata": {},
   "outputs": [],
   "source": [
    "signed_tx = w3.eth.account.sign_transaction(tx, ACCT0KEY)\n",
    "tx_hash = w3.eth.send_raw_transaction(signed_tx.rawTransaction)\n",
    "tx_receipt = w3.eth.wait_for_transaction_receipt(tx_hash)\n",
    "print(tx_receipt)\n",
    "print(f\"Tx successful with hash: { tx_receipt.transactionHash.hex() }\")"
   ]
  },
  {
   "cell_type": "code",
   "execution_count": null,
   "id": "f58c202e-0bcd-40c5-8080-4b60ffb30e04",
   "metadata": {},
   "outputs": [],
   "source": [
    "verificationRegistry.functions.getVerifierCount().call()"
   ]
  },
  {
   "cell_type": "code",
   "execution_count": null,
   "id": "2c9197b6-f8e1-4a33-a568-41183f952770",
   "metadata": {},
   "outputs": [],
   "source": [
    "# Check ACCT status\n",
    "verificationRegistry.functions.isVerified(ACCT1).call()"
   ]
  },
  {
   "cell_type": "markdown",
   "id": "f4effe3b-92a6-478a-9bc0-ac2a66c1d116",
   "metadata": {},
   "source": [
    "### Add ACCT1 Verification Record"
   ]
  },
  {
   "cell_type": "code",
   "execution_count": null,
   "id": "0ca707c8-019a-4ab6-9f5c-176b0b0bc9ae",
   "metadata": {},
   "outputs": [],
   "source": [
    "domain_data = {\n",
    "    \"name\": \"VerificationRegistry\",\n",
    "    \"version\": \"1.0\",\n",
    "    \"chainId\": w3.eth.chain_id,\n",
    "    \"verifyingContract\": REGISTRY_ADDRESS\n",
    "}"
   ]
  },
  {
   "cell_type": "code",
   "execution_count": null,
   "id": "a5024756-7f29-4dbc-bbee-0f958d16cc84",
   "metadata": {},
   "outputs": [],
   "source": [
    "msg_types = {\n",
    "    \"VerificationResult\": [\n",
    "        {\"name\": \"schema\", \"type\": \"string\"},\n",
    "        {\"name\": \"subject\", \"type\": \"address\"},\n",
    "        {\"name\": \"expiration\", \"type\": \"uint256\"},\n",
    "    ],\n",
    "}"
   ]
  },
  {
   "cell_type": "code",
   "execution_count": null,
   "id": "f6672c7e-47cf-4d95-b7d9-c3094c9c6a9b",
   "metadata": {},
   "outputs": [],
   "source": [
    "expiration = w3.eth.get_block(w3.eth.block_number).timestamp + 3000"
   ]
  },
  {
   "cell_type": "code",
   "execution_count": null,
   "id": "9bfa4963-1a1d-421e-ab9a-c29a6bf4f621",
   "metadata": {},
   "outputs": [],
   "source": [
    "msg_data = {\n",
    "    \"schema\":\"circle.com/credentials/kyc\",\n",
    "    \"subject\":ACCT1,\n",
    "    \"expiration\":expiration\n",
    "}"
   ]
  },
  {
   "cell_type": "code",
   "execution_count": null,
   "id": "3d98e8bc-b32b-476e-a3bc-e828fe581411",
   "metadata": {},
   "outputs": [],
   "source": [
    "msg_data"
   ]
  },
  {
   "cell_type": "code",
   "execution_count": null,
   "id": "1f93db68-ad6b-4343-bfb2-deacc472a1ea",
   "metadata": {},
   "outputs": [],
   "source": [
    "from eth_account import Account\n",
    "signed_msg = Account.sign_typed_data(ACCT9KEY, domain_data, msg_types, msg_data)"
   ]
  },
  {
   "cell_type": "code",
   "execution_count": null,
   "id": "ac58d3f6-fece-4f28-aeef-503a50ef282f",
   "metadata": {},
   "outputs": [],
   "source": [
    "signed_msg"
   ]
  },
  {
   "cell_type": "code",
   "execution_count": null,
   "id": "474213fb-e3b7-4bae-ab37-6993ac58425c",
   "metadata": {},
   "outputs": [],
   "source": [
    "# registry.registerVerification(VerificationResult(\n",
    "#            \"circle.com/credentials/kyc\", known, expiration),\n",
    "#        signature);\n",
    "\n",
    "tx = verificationRegistry.functions.registerVerification((\"circle.com/credentials/kyc\",ACCT1,w3.eth.get_block(w3.eth.block_number).timestamp + 3000), signed_msg.signature).build_transaction(\n",
    "    {\n",
    "        \"from\":ACCT0,\n",
    "        \"nonce\": w3.eth.get_transaction_count(ACCT0),\n",
    "    }\n",
    ")"
   ]
  },
  {
   "cell_type": "code",
   "execution_count": null,
   "id": "bcb553ab-182e-4763-96fc-3517242b22b1",
   "metadata": {},
   "outputs": [],
   "source": [
    "signed_tx = w3.eth.account.sign_transaction(tx, ACCT0KEY)\n",
    "tx_hash = w3.eth.send_raw_transaction(signed_tx.rawTransaction)\n",
    "tx_receipt = w3.eth.wait_for_transaction_receipt(tx_hash)\n",
    "print(tx_receipt)\n",
    "print(f\"Tx successful with hash: { tx_receipt.transactionHash.hex() }\")"
   ]
  },
  {
   "cell_type": "code",
   "execution_count": null,
   "id": "aee50d9b-1b58-433d-87c9-ff3312ae3143",
   "metadata": {},
   "outputs": [],
   "source": [
    "verificationRegistry.functions.getVerificationsForSubject(ACCT1).call()"
   ]
  },
  {
   "cell_type": "code",
   "execution_count": null,
   "id": "e7ba5c3c-c383-4397-ab5d-a8a712477aa8",
   "metadata": {},
   "outputs": [],
   "source": [
    "verificationRegistry.functions.isVerified(ACCT1).call()"
   ]
  },
  {
   "cell_type": "markdown",
   "id": "ebe614fd-d4f7-4008-af38-e18c005dca60",
   "metadata": {},
   "source": [
    "### Retry Transfer"
   ]
  },
  {
   "cell_type": "code",
   "execution_count": null,
   "id": "e9324aca-73cc-464c-8d7f-b442ea5000d3",
   "metadata": {},
   "outputs": [],
   "source": [
    "# Transfer some kyc coin to acct1\n",
    "tx = kycToken.functions.transfer(ACCT1, 100).build_transaction(\n",
    "    {\n",
    "        \"from\":ACCT0,\n",
    "        \"nonce\": w3.eth.get_transaction_count(ACCT0),\n",
    "    }\n",
    ")"
   ]
  },
  {
   "cell_type": "code",
   "execution_count": null,
   "id": "717bafe4-b34b-45ed-b4c7-35138aa43856",
   "metadata": {},
   "outputs": [],
   "source": [
    "signed_tx = w3.eth.account.sign_transaction(tx, ACCT0KEY)\n",
    "tx_hash = w3.eth.send_raw_transaction(signed_tx.rawTransaction)\n",
    "tx_receipt = w3.eth.wait_for_transaction_receipt(tx_hash)\n",
    "print(tx_receipt)\n",
    "print(f\"Tx successful with hash: { tx_receipt.transactionHash.hex() }\")"
   ]
  },
  {
   "cell_type": "code",
   "execution_count": null,
   "id": "05df835d-32af-426e-b5b6-7a2fa9029308",
   "metadata": {},
   "outputs": [],
   "source": [
    "kycToken.functions.balanceOf(ACCT1).call()"
   ]
  },
  {
   "cell_type": "code",
   "execution_count": null,
   "id": "c31de29d-4bf5-4a6d-8997-18b73b76702c",
   "metadata": {},
   "outputs": [],
   "source": []
  }
 ],
 "metadata": {
  "kernelspec": {
   "display_name": "Python 3 (ipykernel)",
   "language": "python",
   "name": "python3"
  },
  "language_info": {
   "codemirror_mode": {
    "name": "ipython",
    "version": 3
   },
   "file_extension": ".py",
   "mimetype": "text/x-python",
   "name": "python",
   "nbconvert_exporter": "python",
   "pygments_lexer": "ipython3",
   "version": "3.8.10"
  }
 },
 "nbformat": 4,
 "nbformat_minor": 5
}
